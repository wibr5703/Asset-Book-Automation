{
 "cells": [
  {
   "cell_type": "markdown",
   "metadata": {},
   "source": [
    "INSTRUCTIONS FOR SETUP\n",
    "1. https://www.bloomberg.com/professional/support/api-library/:\n",
    "Download API for Windows: C/C++ Experimental Release\n",
    "\n",
    "2. Dowwnload Python API using Anaconda Prompt: python -m pip install --index-url=https://bloomberg.bintray.com/pip/simple blpapi\n",
    "\n",
    "3. On Windows 10 -> System Properties -> Environment Variables -> Edit Path within 'User variables for bloomberg' and 'System variables' -> add new path: C:\\blp\\blpapi_cpp_3.13.1.1\\bin (corresponding to where SDK file is found on machine)"
   ]
  },
  {
   "cell_type": "code",
   "execution_count": null,
   "metadata": {},
   "outputs": [],
   "source": [
    "import blpapi"
   ]
  },
  {
   "cell_type": "code",
   "execution_count": null,
   "metadata": {},
   "outputs": [],
   "source": [
    "options = blpapi.SessionOptions()\n",
    "options.setServerHost('localhost')\n",
    "options.setServerPort(8194)\n",
    "session = blpapi.Session(options)\n",
    "session.start()"
   ]
  },
  {
   "cell_type": "code",
   "execution_count": null,
   "metadata": {},
   "outputs": [],
   "source": [
    "#https://github.com/PaulMest/tia/\n",
    "\n",
    "import pandas as pd\n",
    "import numpy as np\n",
    "import tia.bbg.datamgr as dm\n",
    "from tia.bbg import LocalTerminal"
   ]
  },
  {
   "cell_type": "code",
   "execution_count": null,
   "metadata": {},
   "outputs": [],
   "source": [
    "#https://nbviewer.jupyter.org/github/bpsmith/tia/blob/master/examples/v3api.ipynb\n",
    "#https://nbviewer.jupyter.org/github/bpsmith/tia/blob/master/examples/datamgr.ipynb\n",
    "\n",
    "# create a DataManager for simpler api access\n",
    "mgr = dm.BbgDataManager()\n",
    "\n",
    "# retrieve a single security accessor from the manager\n",
    "msft = mgr['MSFT US EQUITY']\n",
    "\n",
    "#  Can now access any Bloomberg field (as long as it is upper case)\n",
    "msft['PX_LAST','PX_OPEN']"
   ]
  },
  {
   "cell_type": "code",
   "execution_count": null,
   "metadata": {},
   "outputs": [],
   "source": [
    "#DATA AS OF\n",
    "print(\"DATA AS OF: \")\n",
    "data_as_of = mgr['USGG3YR Index']\n",
    "data_as_of.PREVIOUS_TRADING_DATE\n"
   ]
  },
  {
   "cell_type": "code",
   "execution_count": null,
   "metadata": {},
   "outputs": [],
   "source": [
    "# Have the manager default to returning a frame instead of values\n",
    "mgr.sid_result_mode = 'frame'"
   ]
  },
  {
   "cell_type": "code",
   "execution_count": null,
   "metadata": {},
   "outputs": [],
   "source": [
    "#YIELD CURVE\n",
    "yield_curve = mgr['USGG3M Index','USGG6M Index','USGG2YR Index','USGG3YR Index','USGG5YR Index','USGG10YR Index','USGG30YR Index']\n",
    "yield_curve['PREVIOUS_TRADING_DATE', 'PX_LAST_EOD']\n"
   ]
  },
  {
   "cell_type": "code",
   "execution_count": null,
   "metadata": {},
   "outputs": [],
   "source": [
    "#GT10 govt\n",
    "GT10_govt = mgr['GT10 govt']\n",
    "GT10_govt['PREVIOUS_TRADING_DATE', 'PX_LAST_EOD', 'YLD_CNV_MID']"
   ]
  },
  {
   "cell_type": "code",
   "execution_count": null,
   "metadata": {},
   "outputs": [],
   "source": [
    "#MUNICIPAL BONDS\n",
    "muni_10yr = mgr['LM10YW Index']\n",
    "muni_10yr['PREVIOUS_TRADING_DATE','PX_LAST_EOD']"
   ]
  },
  {
   "cell_type": "code",
   "execution_count": null,
   "metadata": {},
   "outputs": [],
   "source": [
    "#HIGH YIELD MUNICIPAL BONDS\n",
    "high_yield_muni = mgr['LMHYYW Index']\n",
    "high_yield_muni['PREVIOUS_TRADING_DATE','PX_LAST_EOD']"
   ]
  },
  {
   "cell_type": "code",
   "execution_count": null,
   "metadata": {},
   "outputs": [],
   "source": [
    "#LIBOR\n",
    "libor = mgr['US00O/N Index','US0003M Index','FDTR Index']\n",
    "libor['PREVIOUS_TRADING_DATE','PX_LAST_EOD']"
   ]
  },
  {
   "cell_type": "code",
   "execution_count": null,
   "metadata": {},
   "outputs": [],
   "source": [
    "#HIGH GRADE GOVERNMENT/CORPORATE BONDS\n",
    "high_grade_govANDcorp = mgr['LUACYW Index']\n",
    "high_grade_govANDcorp['LAST_UPDATE_DT','PX_LAST_EOD']"
   ]
  },
  {
   "cell_type": "code",
   "execution_count": null,
   "metadata": {
    "scrolled": true
   },
   "outputs": [],
   "source": [
    "#HIGH YIELD CORPORATE BONDS\n",
    "high_yield_corp = mgr['LF98YW Index']\n",
    "high_yield_corp['PX_YEST_DT','PX_LAST_EOD']"
   ]
  },
  {
   "cell_type": "code",
   "execution_count": null,
   "metadata": {},
   "outputs": [],
   "source": [
    "#INTERNATIONAL GOVERNMENT/CORPORATE BONDS\n",
    "international_govANDcorp = mgr['LGCPYW Index']\n",
    "international_govANDcorp['PX_YEST_DT','PX_LAST_EOD']"
   ]
  },
  {
   "cell_type": "code",
   "execution_count": null,
   "metadata": {},
   "outputs": [],
   "source": [
    "#DOLLLAR INDEX\n",
    "dollar_index = mgr['USTRBROA Index']\n",
    "dollar_index['LAST_UPDATE_DT','PX_LAST']"
   ]
  },
  {
   "cell_type": "code",
   "execution_count": null,
   "metadata": {},
   "outputs": [],
   "source": [
    "#INTERNATIONAL HIGH YIELD / EMERGING MARKET BONDS\n",
    "international_high_yieldANDemerging_market = mgr['LG20YW Index']\n",
    "international_high_yieldANDemerging_market['PX_YEST_DT','PX_LAST_EOD']"
   ]
  },
  {
   "cell_type": "code",
   "execution_count": null,
   "metadata": {},
   "outputs": [],
   "source": [
    "#LARGE CAP VALUE AND GROWTH EQUITIES, SMALL CAP VALUE AND GROWTH EQUITIES \n",
    "largeANDsmall_valueANDgrowth = mgr['RU10VATR Index','RU10GRTR Index','RU20VATR Index','RU20GRTR Index','RUMCVATR Index','RUMCGRTR Index']\n",
    "largeANDsmall_valueANDgrowth['PREVIOUS_TRADING_DATE','PX_LAST_EOD']"
   ]
  },
  {
   "cell_type": "code",
   "execution_count": null,
   "metadata": {},
   "outputs": [],
   "source": [
    "#S&P500 BEST PE RATIO\n",
    "SP500_BestPE = mgr['SPX Index']\n",
    "SP500_BestPE['PREVIOUS_TRADING_DATE','BEST_PE_RATIO']"
   ]
  },
  {
   "cell_type": "code",
   "execution_count": null,
   "metadata": {},
   "outputs": [],
   "source": [
    "#INTERNATIONAL EQUITIES AND EMERGING MARKETS EQUITIES\n",
    "international_equitiesANDemerging_markets_equities = mgr['MXEA Index','MXEF Index']\n",
    "international_equitiesANDemerging_markets_equities['PREVIOUS_TRADING_DATE','PX_LAST_EOD']"
   ]
  },
  {
   "cell_type": "code",
   "execution_count": null,
   "metadata": {},
   "outputs": [],
   "source": [
    "#REITs / MANAGED FUNDS \n",
    "reitsANDmanaged_funds = mgr['FNERTR Index']\n",
    "reitsANDmanaged_funds['PREVIOUS_TRADING_DATE','PX_LAST_EOD']"
   ]
  },
  {
   "cell_type": "code",
   "execution_count": null,
   "metadata": {},
   "outputs": [],
   "source": [
    "#COMMODITIES: BLS Average Manufacturing Hourly Wage\n",
    "BLS_average_manufacturing_hourly_wage = mgr['USHEMANN Index']\n",
    "BLS_average_manufacturing_hourly_wage['LAST_UPDATE_DT','PX_LAST']"
   ]
  },
  {
   "cell_type": "code",
   "execution_count": null,
   "metadata": {},
   "outputs": [],
   "source": [
    "#COMMODITIES: Oil Price\n",
    "oil_price = mgr['EUCRBRDT Index']\n",
    "oil_price['PREVIOUS_TRADING_DATE','PX_LAST_EOD']"
   ]
  },
  {
   "cell_type": "code",
   "execution_count": null,
   "metadata": {},
   "outputs": [],
   "source": [
    "#COMMODITIES: GSCI Total Return Index\n",
    "GSCI_total_return_index = mgr['SPGSCITR Index']\n",
    "GSCI_total_return_index['PREVIOUS_TRADING_DATE','PX_LAST_EOD']"
   ]
  },
  {
   "cell_type": "code",
   "execution_count": null,
   "metadata": {},
   "outputs": [],
   "source": [
    "#COMMODITIES: Alerian MLP Index Yield\n",
    "alerian_MLP_index_yield = mgr['AMZ Index']\n",
    "alerian_MLP_index_yield['PREVIOUS_TRADING_DATE','EQY_DVD_YLD_12M']"
   ]
  },
  {
   "cell_type": "code",
   "execution_count": null,
   "metadata": {},
   "outputs": [],
   "source": [
    "#MISCELLANEOUS: AAII Bullish Data\n",
    "AAII_bullish = mgr['AAIIBULL Index']\n",
    "AAII_bullish['LAST_UPDATE_DT','PX_LAST']"
   ]
  },
  {
   "cell_type": "code",
   "execution_count": null,
   "metadata": {},
   "outputs": [],
   "source": [
    "#MISCELLANEOUS: AAII Bearish Data\n",
    "AAII_bearish = mgr['AAIIBEAR INDEX']\n",
    "AAII_bearish['LAST_UPDATE_DT','PX_LAST_EOD']"
   ]
  },
  {
   "cell_type": "code",
   "execution_count": null,
   "metadata": {},
   "outputs": [],
   "source": [
    "#MISCELLANEOUS: VIX\n",
    "VIX_index = mgr['VIX Index']\n",
    "VIX_index['PREVIOUS_TRADING_DATE','PX_LAST_EOD']"
   ]
  },
  {
   "cell_type": "code",
   "execution_count": null,
   "metadata": {},
   "outputs": [],
   "source": [
    "#MISCELLANEOUS: VXO\n",
    "VXO_index = mgr['VXO Index']\n",
    "VXO_index['PREVIOUS_TRADING_DATE','PX_LAST_EOD']"
   ]
  },
  {
   "cell_type": "code",
   "execution_count": null,
   "metadata": {},
   "outputs": [],
   "source": [
    "#MISCELLANEOUS: ICI Money Market Fund Assets\n",
    "ICI_money_market = mgr['iciwtotl index']\n",
    "ICI_money_market['LAST_UPDATE_DT','PX_LAST']"
   ]
  },
  {
   "cell_type": "code",
   "execution_count": null,
   "metadata": {},
   "outputs": [],
   "source": [
    "#MISCELLANEOUS: ML Unicorn Hedge\n",
    "ML_unicorn = mgr['MLDIUNIH index']\n",
    "ML_unicorn['PX_YEST_DT','PX_LAST_EOD']"
   ]
  },
  {
   "cell_type": "code",
   "execution_count": null,
   "metadata": {},
   "outputs": [],
   "source": [
    "#GLOBAL EQUITIES\n",
    "MSCI_ACWI = mgr['MXWD Index']\n",
    "MSCI_ACWI['PREVIOUS_TRADING_DATE','PX_LAST_EOD']"
   ]
  },
  {
   "cell_type": "code",
   "execution_count": null,
   "metadata": {},
   "outputs": [],
   "source": [
    "#CONCENTRATED POSITIONS\n",
    "concentrated_positions = mgr['JD US Equity','AMZN US Equity']\n",
    "concentrated_positions['PREVIOUS_TRADING_DATE','PX_TO_SALES_RATIO']"
   ]
  },
  {
   "cell_type": "code",
   "execution_count": null,
   "metadata": {},
   "outputs": [],
   "source": [
    "sids = mgr['MXWD Index', 'GT10 govt']\n",
    "sids.PX_LAST\n",
    "sids.get_historical('PX_LAST', '1/2/1995', '6/18/2019').head()\n"
   ]
  },
  {
   "cell_type": "code",
   "execution_count": null,
   "metadata": {},
   "outputs": [],
   "source": []
  },
  {
   "cell_type": "code",
   "execution_count": null,
   "metadata": {},
   "outputs": [],
   "source": []
  }
 ],
 "metadata": {
  "kernelspec": {
   "display_name": "Python 3",
   "language": "python",
   "name": "python3"
  },
  "language_info": {
   "codemirror_mode": {
    "name": "ipython",
    "version": 3
   },
   "file_extension": ".py",
   "mimetype": "text/x-python",
   "name": "python",
   "nbconvert_exporter": "python",
   "pygments_lexer": "ipython3",
   "version": "3.7.3"
  }
 },
 "nbformat": 4,
 "nbformat_minor": 2
}
